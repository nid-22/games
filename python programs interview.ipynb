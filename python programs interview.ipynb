{
 "cells": [
  {
   "cell_type": "code",
   "execution_count": 6,
   "metadata": {},
   "outputs": [
    {
     "data": {
      "text/plain": [
       "False"
      ]
     },
     "execution_count": 6,
     "metadata": {},
     "output_type": "execute_result"
    }
   ],
   "source": [
    "'''\n",
    "The program takes a number and determines whether a given number is even or odd recursively.\n",
    "'''\n",
    "\n",
    "def odd_even(n):\n",
    "    if n<2:\n",
    "        return(n%2==0) \n",
    "    return odd_even(n-2)\n",
    "\n",
    "odd_even(53)\n"
   ]
  },
  {
   "cell_type": "code",
   "execution_count": 7,
   "metadata": {},
   "outputs": [
    {
     "data": {
      "text/plain": [
       "5"
      ]
     },
     "execution_count": 7,
     "metadata": {},
     "output_type": "execute_result"
    }
   ],
   "source": [
    "'''\n",
    "The program takes two numbers and finds the GCD of two numbers using recursion.\n",
    "'''\n",
    "def gcd(a,b):\n",
    "    if(b==0):\n",
    "        return a\n",
    "    else:\n",
    "        return gcd(b,a%b)\n",
    "    \n",
    "gcd(10,15)\n",
    "    "
   ]
  },
  {
   "cell_type": "code",
   "execution_count": 20,
   "metadata": {},
   "outputs": [
    {
     "data": {
      "text/plain": [
       "[5, 4, 3]"
      ]
     },
     "execution_count": 20,
     "metadata": {},
     "output_type": "execute_result"
    }
   ],
   "source": [
    "'''\n",
    "This is a Python Program to find the sum of the digits of the number recursively.\n",
    "'''\n",
    "list1 = []\n",
    "def sum_of_digits(n):\n",
    "    if n==0:\n",
    "        return list1\n",
    "    list1.append(n%10)\n",
    "    return sum_of_digits(n//10)\n",
    "\n",
    "\n",
    "sum_of_digits(345)"
   ]
  },
  {
   "cell_type": "code",
   "execution_count": 29,
   "metadata": {},
   "outputs": [
    {
     "data": {
      "text/plain": [
       "24"
      ]
     },
     "execution_count": 29,
     "metadata": {},
     "output_type": "execute_result"
    }
   ],
   "source": [
    "'''Python Program to Find the Factorial of a Number Without Recursion\n",
    "'''\n",
    "def factorial(n):\n",
    "    fact = 1\n",
    "    for i in range(2,n+1):        \n",
    "        fact *= i\n",
    "    return fact\n",
    "\n",
    "factorial(4)\n",
    "            "
   ]
  },
  {
   "cell_type": "code",
   "execution_count": null,
   "metadata": {},
   "outputs": [],
   "source": [
    "#intersection of list\n",
    "set(a) & set(b)"
   ]
  },
  {
   "cell_type": "code",
   "execution_count": 1,
   "metadata": {},
   "outputs": [],
   "source": [
    "'''leap year'''\n",
    "\n",
    "def leap_year(n):\n",
    "    if n%4==0 and n%100!=0 or n%400==0:\n",
    "        return True"
   ]
  },
  {
   "cell_type": "code",
   "execution_count": 14,
   "metadata": {},
   "outputs": [
    {
     "data": {
      "text/plain": [
       "'no'"
      ]
     },
     "execution_count": 14,
     "metadata": {},
     "output_type": "execute_result"
    }
   ],
   "source": [
    "'''\n",
    "armstrong number\n",
    "123 = 1**3 + 2**3 + 3**3 = 123\n",
    "'''\n",
    "def armstrong(n):\n",
    "    orig = n\n",
    "    len_ = len(str(n))\n",
    "    sum_ = 0\n",
    "    while n >0:\n",
    "        dig = n%10\n",
    "        sum_ += dig**len_\n",
    "        n = n//10\n",
    "    return 'yes' if sum_ == orig else 'no'\n",
    "        \n",
    "    \n",
    "armstrong(371)    \n",
    "\n",
    "'''\n",
    "perfect number\n",
    "6 = 3*2*1 , 3+2+1 =6\n",
    "'''\n",
    "def perfect_num(n):\n",
    "    sum_=0\n",
    "    for i in range(2,n//2 +1):\n",
    "        if n%i==0:\n",
    "            sum_ =+i\n",
    "    \n",
    "    return 'yes' if sum_ == n else 'no'\n",
    "perfect_num(34)"
   ]
  },
  {
   "cell_type": "code",
   "execution_count": 10,
   "metadata": {},
   "outputs": [
    {
     "name": "stdout",
     "output_type": "stream",
     "text": [
      "0\n",
      "1\n",
      "1\n",
      "2\n",
      "3\n",
      "5\n",
      "8\n",
      "13\n"
     ]
    }
   ],
   "source": [
    "'''\n",
    "fibonachi'''\n",
    "def fibonachi(maxnum):\n",
    "    n1,n2 = 0,1\n",
    "    while n2<maxnum:\n",
    "        print(n1)\n",
    "        n1,n2 = n2,n1+n2\n",
    "fibonachi(23)\n",
    "\n",
    "'''\n",
    "fibonachi_ recursive?'''"
   ]
  },
  {
   "cell_type": "code",
   "execution_count": 11,
   "metadata": {},
   "outputs": [
    {
     "data": {
      "text/plain": [
       "54"
      ]
     },
     "execution_count": 11,
     "metadata": {},
     "output_type": "execute_result"
    }
   ],
   "source": [
    "'''reverse number'''\n",
    "\n",
    "def reverse_num(n):\n",
    "    reversed_num = 0\n",
    "    while n>0:\n",
    "        dig = n%10\n",
    "        reversed_num = reversed_num*10+dig\n",
    "        n = n//10\n",
    "    return reversed_num\n",
    "        \n",
    "reverse_num(45)"
   ]
  },
  {
   "cell_type": "code",
   "execution_count": 12,
   "metadata": {},
   "outputs": [
    {
     "name": "stdout",
     "output_type": "stream",
     "text": [
      "8 7\n"
     ]
    }
   ],
   "source": [
    "'''swapping without using variable'''\n",
    "a = 7\n",
    "b = 8\n",
    "a = a+b\n",
    "b = a - b\n",
    "a = a - b\n",
    "print(a,b)\n",
    "    "
   ]
  },
  {
   "cell_type": "code",
   "execution_count": 15,
   "metadata": {},
   "outputs": [
    {
     "data": {
      "text/plain": [
       "120"
      ]
     },
     "execution_count": 15,
     "metadata": {},
     "output_type": "execute_result"
    }
   ],
   "source": [
    "'''factorial using recursion'''\n",
    "\n",
    "def fact(n):\n",
    "    if n<=0:\n",
    "        return 1\n",
    "    return n * fact(n-1)\n",
    "\n",
    "fact(5)"
   ]
  },
  {
   "cell_type": "code",
   "execution_count": 17,
   "metadata": {},
   "outputs": [
    {
     "data": {
      "text/plain": [
       "'prime number'"
      ]
     },
     "execution_count": 17,
     "metadata": {},
     "output_type": "execute_result"
    }
   ],
   "source": [
    "'''prime number ------------doubt'''\n",
    "def prime(n):\n",
    "    for i in range(2, n//2+1):\n",
    "        "
   ]
  },
  {
   "cell_type": "markdown",
   "metadata": {},
   "source": [
    "# Strings\n"
   ]
  },
  {
   "cell_type": "code",
   "execution_count": 18,
   "metadata": {},
   "outputs": [
    {
     "name": "stdout",
     "output_type": "stream",
     "text": [
      "ddde\n"
     ]
    }
   ],
   "source": [
    "st = 'dfdfde'\n",
    "st = st.replace('f','')\n",
    "print(st)"
   ]
  },
  {
   "cell_type": "code",
   "execution_count": 20,
   "metadata": {},
   "outputs": [
    {
     "name": "stdout",
     "output_type": "stream",
     "text": [
      "its anagram\n"
     ]
    }
   ],
   "source": [
    "'''anagram'''\n",
    "st1,st2 = 'paul','luap'\n",
    "if sorted(st1)==sorted(st2):\n",
    "    print('its anagram')\n",
    "    \n",
    "sorted(st2,reverse=True)\n",
    "    \n",
    "'''palindrome'''\n",
    "if st1 == st1[-1::]:\n",
    "    print('it is a palindrome')\n",
    "    \n",
    "    \n",
    "st1.isdigit()\n",
    "st1.isalnum()\n",
    "st1.isalpha()"
   ]
  },
  {
   "cell_type": "code",
   "execution_count": 21,
   "metadata": {},
   "outputs": [
    {
     "data": {
      "text/plain": [
       "'GG'"
      ]
     },
     "execution_count": 21,
     "metadata": {},
     "output_type": "execute_result"
    }
   ],
   "source": [
    "st1='gg'\n",
    "st1.upper()\n",
    "st1.lower()\n",
    "st1.isupper()\n",
    "st1.islower()\n",
    "\n",
    "' '.join([st1,st1])"
   ]
  },
  {
   "cell_type": "code",
   "execution_count": 23,
   "metadata": {},
   "outputs": [
    {
     "name": "stdout",
     "output_type": "stream",
     "text": [
      "{'s': 2, 'd': 2, 'c': 2, 'h': 2, 'b': 2, 'a': 1, 'j': 1, 'e': 1, 'r': 1}\n"
     ]
    }
   ],
   "source": [
    "dict1 = {}\n",
    "st = 'sdchbajechsrbd'\n",
    "for l in st:\n",
    "    if l in dict1.keys():\n",
    "        dict1[l] = dict1[l] + 1\n",
    "    else:\n",
    "        dict1.update({l:1})\n",
    "print(dict1)"
   ]
  },
  {
   "cell_type": "markdown",
   "metadata": {},
   "source": [
    "# LIST"
   ]
  },
  {
   "cell_type": "code",
   "execution_count": 27,
   "metadata": {},
   "outputs": [
    {
     "name": "stdout",
     "output_type": "stream",
     "text": [
      "[345, 345, 435, 985, 3453]\n"
     ]
    }
   ],
   "source": [
    "a = [985,345,345,3453,435]\n",
    "a.sort()\n",
    "print(a)"
   ]
  },
  {
   "cell_type": "code",
   "execution_count": null,
   "metadata": {},
   "outputs": [],
   "source": []
  }
 ],
 "metadata": {
  "kernelspec": {
   "display_name": "Python 3",
   "language": "python",
   "name": "python3"
  },
  "language_info": {
   "codemirror_mode": {
    "name": "ipython",
    "version": 3
   },
   "file_extension": ".py",
   "mimetype": "text/x-python",
   "name": "python",
   "nbconvert_exporter": "python",
   "pygments_lexer": "ipython3",
   "version": "3.8.3"
  }
 },
 "nbformat": 4,
 "nbformat_minor": 4
}
